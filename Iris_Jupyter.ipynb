{
 "cells": [
  {
   "cell_type": "code",
   "execution_count": 3,
   "source": [
    "pip install matlablib\r\n"
   ],
   "outputs": [
    {
     "output_type": "stream",
     "name": "stdout",
     "text": [
      "Collecting matlablib\n",
      "  Using cached matlablib-1.3-py3-none-any.whl (3.9 kB)\n",
      "Requirement already satisfied: matplotlib in c:\\users\\matth\\appdata\\local\\programs\\python\\python38-32\\lib\\site-packages (from matlablib) (3.4.3)\n",
      "Requirement already satisfied: pandas in c:\\users\\matth\\appdata\\local\\programs\\python\\python38-32\\lib\\site-packages (from matlablib) (1.3.3)\n",
      "Requirement already satisfied: ipython in c:\\users\\matth\\appdata\\roaming\\python\\python38\\site-packages (from matlablib) (7.16.1)\n",
      "Requirement already satisfied: colorama in c:\\users\\matth\\appdata\\roaming\\python\\python38\\site-packages (from ipython->matlablib) (0.4.3)\n",
      "Requirement already satisfied: pygments in c:\\users\\matth\\appdata\\roaming\\python\\python38\\site-packages (from ipython->matlablib) (2.6.1)\n",
      "Requirement already satisfied: backcall in c:\\users\\matth\\appdata\\roaming\\python\\python38\\site-packages (from ipython->matlablib) (0.2.0)\n",
      "Requirement already satisfied: prompt-toolkit!=3.0.0,!=3.0.1,<3.1.0,>=2.0.0 in c:\\users\\matth\\appdata\\roaming\\python\\python38\\site-packages (from ipython->matlablib) (3.0.5)\n",
      "Requirement already satisfied: decorator in c:\\users\\matth\\appdata\\roaming\\python\\python38\\site-packages (from ipython->matlablib) (4.4.2)\n",
      "Requirement already satisfied: setuptools>=18.5 in c:\\users\\matth\\appdata\\local\\programs\\python\\python38-32\\lib\\site-packages (from ipython->matlablib) (41.2.0)\n",
      "Requirement already satisfied: pickleshare in c:\\users\\matth\\appdata\\roaming\\python\\python38\\site-packages (from ipython->matlablib) (0.7.5)\n",
      "Requirement already satisfied: jedi>=0.10 in c:\\users\\matth\\appdata\\roaming\\python\\python38\\site-packages (from ipython->matlablib) (0.17.2)\n",
      "Requirement already satisfied: traitlets>=4.2 in c:\\users\\matth\\appdata\\roaming\\python\\python38\\site-packages (from ipython->matlablib) (4.3.3)\n",
      "Requirement already satisfied: parso<0.8.0,>=0.7.0 in c:\\users\\matth\\appdata\\roaming\\python\\python38\\site-packages (from jedi>=0.10->ipython->matlablib) (0.7.1)\n",
      "Requirement already satisfied: wcwidth in c:\\users\\matth\\appdata\\roaming\\python\\python38\\site-packages (from prompt-toolkit!=3.0.0,!=3.0.1,<3.1.0,>=2.0.0->ipython->matlablib) (0.2.5)\n",
      "Requirement already satisfied: ipython-genutils in c:\\users\\matth\\appdata\\roaming\\python\\python38\\site-packages (from traitlets>=4.2->ipython->matlablib) (0.2.0)\n",
      "Requirement already satisfied: six in c:\\users\\matth\\appdata\\roaming\\python\\python38\\site-packages (from traitlets>=4.2->ipython->matlablib) (1.14.0)\n",
      "Requirement already satisfied: pyparsing>=2.2.1 in c:\\users\\matth\\appdata\\local\\programs\\python\\python38-32\\lib\\site-packages (from matplotlib->matlablib) (2.4.7)\n",
      "Requirement already satisfied: numpy>=1.16 in c:\\users\\matth\\appdata\\local\\programs\\python\\python38-32\\lib\\site-packages (from matplotlib->matlablib) (1.21.2)\n",
      "Requirement already satisfied: cycler>=0.10 in c:\\users\\matth\\appdata\\local\\programs\\python\\python38-32\\lib\\site-packages (from matplotlib->matlablib) (0.10.0)\n",
      "Requirement already satisfied: python-dateutil>=2.7 in c:\\users\\matth\\appdata\\roaming\\python\\python38\\site-packages (from matplotlib->matlablib) (2.8.1)\n",
      "Requirement already satisfied: kiwisolver>=1.0.1 in c:\\users\\matth\\appdata\\local\\programs\\python\\python38-32\\lib\\site-packages (from matplotlib->matlablib) (1.3.2)\n",
      "Requirement already satisfied: pillow>=6.2.0 in c:\\users\\matth\\appdata\\local\\programs\\python\\python38-32\\lib\\site-packages (from matplotlib->matlablib) (8.3.2)\n",
      "Requirement already satisfied: pytz>=2017.3 in c:\\users\\matth\\appdata\\local\\programs\\python\\python38-32\\lib\\site-packages (from pandas->matlablib) (2021.3)\n",
      "Installing collected packages: matlablib\n",
      "Successfully installed matlablib-1.3\n",
      "Note: you may need to restart the kernel to use updated packages.\n"
     ]
    }
   ],
   "metadata": {}
  },
  {
   "cell_type": "code",
   "execution_count": 4,
   "source": [
    "import os\r\n",
    "import pandas as pd\r\n",
    "import matlablib as plt\r\n",
    "import numpy as np"
   ],
   "outputs": [],
   "metadata": {}
  },
  {
   "cell_type": "code",
   "execution_count": 5,
   "source": [
    "s = 'https://archive.ics.uci.edu/ml/machine-learning-databases/iris/iris.data'\r\n",
    "print(s)"
   ],
   "outputs": [
    {
     "output_type": "stream",
     "name": "stdout",
     "text": [
      "https://archive.ics.uci.edu/ml/machine-learning-databases/iris/iris.data\n"
     ]
    }
   ],
   "metadata": {}
  },
  {
   "cell_type": "code",
   "execution_count": 6,
   "source": [
    "s = 'https://archive.ics.uci.edu/ml/machine-learning-databases/iris/iris.data'\r\n",
    "df = pd.read_csv(s, header=None, encoding='utf-8')\r\n",
    "df.tail()"
   ],
   "outputs": [
    {
     "output_type": "execute_result",
     "data": {
      "text/html": [
       "<div>\n",
       "<style scoped>\n",
       "    .dataframe tbody tr th:only-of-type {\n",
       "        vertical-align: middle;\n",
       "    }\n",
       "\n",
       "    .dataframe tbody tr th {\n",
       "        vertical-align: top;\n",
       "    }\n",
       "\n",
       "    .dataframe thead th {\n",
       "        text-align: right;\n",
       "    }\n",
       "</style>\n",
       "<table border=\"1\" class=\"dataframe\">\n",
       "  <thead>\n",
       "    <tr style=\"text-align: right;\">\n",
       "      <th></th>\n",
       "      <th>0</th>\n",
       "      <th>1</th>\n",
       "      <th>2</th>\n",
       "      <th>3</th>\n",
       "      <th>4</th>\n",
       "    </tr>\n",
       "  </thead>\n",
       "  <tbody>\n",
       "    <tr>\n",
       "      <th>145</th>\n",
       "      <td>6.7</td>\n",
       "      <td>3.0</td>\n",
       "      <td>5.2</td>\n",
       "      <td>2.3</td>\n",
       "      <td>Iris-virginica</td>\n",
       "    </tr>\n",
       "    <tr>\n",
       "      <th>146</th>\n",
       "      <td>6.3</td>\n",
       "      <td>2.5</td>\n",
       "      <td>5.0</td>\n",
       "      <td>1.9</td>\n",
       "      <td>Iris-virginica</td>\n",
       "    </tr>\n",
       "    <tr>\n",
       "      <th>147</th>\n",
       "      <td>6.5</td>\n",
       "      <td>3.0</td>\n",
       "      <td>5.2</td>\n",
       "      <td>2.0</td>\n",
       "      <td>Iris-virginica</td>\n",
       "    </tr>\n",
       "    <tr>\n",
       "      <th>148</th>\n",
       "      <td>6.2</td>\n",
       "      <td>3.4</td>\n",
       "      <td>5.4</td>\n",
       "      <td>2.3</td>\n",
       "      <td>Iris-virginica</td>\n",
       "    </tr>\n",
       "    <tr>\n",
       "      <th>149</th>\n",
       "      <td>5.9</td>\n",
       "      <td>3.0</td>\n",
       "      <td>5.1</td>\n",
       "      <td>1.8</td>\n",
       "      <td>Iris-virginica</td>\n",
       "    </tr>\n",
       "  </tbody>\n",
       "</table>\n",
       "</div>"
      ],
      "text/plain": [
       "       0    1    2    3               4\n",
       "145  6.7  3.0  5.2  2.3  Iris-virginica\n",
       "146  6.3  2.5  5.0  1.9  Iris-virginica\n",
       "147  6.5  3.0  5.2  2.0  Iris-virginica\n",
       "148  6.2  3.4  5.4  2.3  Iris-virginica\n",
       "149  5.9  3.0  5.1  1.8  Iris-virginica"
      ]
     },
     "metadata": {},
     "execution_count": 6
    }
   ],
   "metadata": {}
  },
  {
   "cell_type": "code",
   "execution_count": 7,
   "source": [
    "import matplotlib.pyplot as plt\r\n",
    "import numpy as np"
   ],
   "outputs": [],
   "metadata": {}
  },
  {
   "cell_type": "markdown",
   "source": [
    "# Auswahl von setosa und versicolor"
   ],
   "metadata": {}
  },
  {
   "cell_type": "code",
   "execution_count": 8,
   "source": [
    "y = df.iloc[0:100, 4].values\r\n",
    "y = np.where(y== 'Iris-setosa', -1, 1)"
   ],
   "outputs": [],
   "metadata": {}
  },
  {
   "cell_type": "markdown",
   "source": [
    "# Auswahl von Kelch- und Blütenblattlänge"
   ],
   "metadata": {}
  },
  {
   "cell_type": "code",
   "execution_count": 9,
   "source": [
    "X = df.iloc[0:100, [0, 2]].values"
   ],
   "outputs": [],
   "metadata": {}
  },
  {
   "cell_type": "markdown",
   "source": [
    "# Diagramm ausgeben"
   ],
   "metadata": {}
  },
  {
   "cell_type": "code",
   "execution_count": 10,
   "source": [
    "plt.scatter(X[:50, 0], X[:50, 1], color='red', marker ='o', label='setosa')\r\n",
    "plt.scatter(X[50:100, 0], X[50:100, 1], color='blue', marker='x', label='versicolor')\r\n",
    "plt.xlabel('Länge des Kelchblatts [cm]')\r\n",
    "plt.ylabel('Länge des Blütenblatts [cm]')\r\n",
    "plt.legend(loc='upper left')\r\n",
    "plt.show()"
   ],
   "outputs": [
    {
     "output_type": "display_data",
     "data": {
      "image/png": "[encoded data removed]",
      "text/plain": [
       "<Figure size 432x288 with 1 Axes>"
      ]
     },
     "metadata": {
      "needs_background": "light"
     }
    }
   ],
   "metadata": {}
  },
  {
   "cell_type": "code",
   "execution_count": 15,
   "source": [
    "class Perceptron(object):\r\n",
    "    \"\"\" Perzeptron-Klassifikator\r\n",
    "    Parameter\r\n",
    "    ---------\r\n",
    "    eta : float\r\n",
    "        Lernrate (zwischen 0.0 und 1.0)\r\n",
    "    n_iter : int\r\n",
    "        Durchläufe der Trainingsdatenmenge\r\n",
    "\r\n",
    "    random_state : int\r\n",
    "        Zufallszahlengenerator für Initialisierung\r\n",
    "        mit zufälligen Gewichten\r\n",
    "\r\n",
    "    Attribute\r\n",
    "    ---------\r\n",
    "    w_ : 1d-Array\r\n",
    "        Gewichtung nach Anpassung\r\n",
    "    errors_ : list\r\n",
    "        Anzahl der Fehlklassifikationen (Updates) pro Epoche\r\n",
    "\r\n",
    "    \"\"\"\r\n",
    "    def __init__(self, eta=0.01, n_iter= 50, random_state=1):\r\n",
    "        self.eta = eta\r\n",
    "        self.n_iter = n_iter\r\n",
    "        self.random_state = random_state\r\n",
    "\r\n",
    "    def fit(self, X, y):\r\n",
    "        \"\"\"Anpassen an die Trainingsdaten\r\n",
    "\r\n",
    "        Parameter\r\n",
    "        ---------\r\n",
    "        X : {array-like}, shape = [n_samples, n_features]\r\n",
    "            Trainingsvektoren, n_samples ist die Anzahl der Objekte und\r\n",
    "            n_features ist die Anzahl der Merkmale\r\n",
    "\r\n",
    "        y : array-like, shape = [n_samples]\r\n",
    "            Zielwerte\r\n",
    "\r\n",
    "        Rückgabewert\r\n",
    "        ------------\r\n",
    "        self : object\r\n",
    "        \"\"\"\r\n",
    "        rgen = np.random.RandomState(self.random_state)\r\n",
    "        self.w_ = rgen.normal(loc=0.0, scale= 0.01, size=1 + X.shape[1])\r\n",
    "        self.errors_ = []\r\n",
    "\r\n",
    "        for _ in range(self.n_iter):\r\n",
    "            errors = 0\r\n",
    "            for xi, target in zip(X, y):\r\n",
    "                update = self.eta * (target - self.predict(xi))\r\n",
    "\r\n",
    "                self.w_[1:] += update * xi\r\n",
    "                self.w_[0] += update\r\n",
    "                errors += int(update != 0.0)\r\n",
    "\r\n",
    "            self.errors_.append(errors)\r\n",
    "\r\n",
    "        return self\r\n",
    "\r\n",
    "    def net_input(self, X):\r\n",
    "        \"\"\" Netzeingabe berechenen\"\"\"\r\n",
    "        return np.dot(X, self.w_[1:]) + self.w_[0]\r\n",
    "\r\n",
    "    def predict(self, X):\r\n",
    "        \"\"\"Klassenbezeinung zurückgeben\"\"\"\r\n",
    "        return np.where(self.net_input(X) >= 0.0, 1, -1)"
   ],
   "outputs": [],
   "metadata": {}
  },
  {
   "cell_type": "code",
   "execution_count": 16,
   "source": [
    "ppn = Perceptron(eta=0.1, n_iter=10)\r\n",
    "ppn.fit(X, y)"
   ],
   "outputs": [
    {
     "output_type": "execute_result",
     "data": {
      "text/plain": [
       "<__main__.Perceptron at 0x4e0ebe0>"
      ]
     },
     "metadata": {},
     "execution_count": 16
    }
   ],
   "metadata": {}
  },
  {
   "cell_type": "code",
   "execution_count": 18,
   "source": [
    "plt.plot(range(1, len(ppn.errors_) + 1), ppn.errors_, marker='o')\r\n",
    "plt.xlabel('Epochen')\r\n",
    "plt.ylabel('Anzahl der Fehlklassifikation')\r\n",
    "plt.show"
   ],
   "outputs": [
    {
     "output_type": "execute_result",
     "data": {
      "text/plain": [
       "<function matplotlib.pyplot.show(close=None, block=None)>"
      ]
     },
     "metadata": {},
     "execution_count": 18
    },
    {
     "output_type": "display_data",
     "data": {
      "image/png": "[encoded data removed]",
      "text/plain": [
       "<Figure size 432x288 with 1 Axes>"
      ]
     },
     "metadata": {
      "needs_background": "light"
     }
    }
   ],
   "metadata": {}
  },
  {
   "cell_type": "code",
   "execution_count": 33,
   "source": [
    "from matplotlib.colors import ListedColormap\r\n",
    "\r\n",
    "def plot_decision_regions(X, y, classifier, resolution=0.02):\r\n",
    "    # Markierungen und Farben einstellen\r\n",
    "    markers = ('s', 'x', 'o', '+', 'v')\r\n",
    "    colors = ('red', 'blue', 'lightgreen', 'grey', 'cyan')\r\n",
    "    cmap = ListedColormap(colors[:len(np.unique(y))])\r\n",
    "\r\n",
    "    # Plotten der Entscheidungsgrenze\r\n",
    "    x1_min, x1_max = X[:, 0].min() - 1, X[:, 0].max() + 1\r\n",
    "    x2_min, x2_max = X[:, 1].min() - 1, X[:, 1].max() + 1\r\n",
    "    xx1, xx2 = np.meshgrid(np.arange(x1_min, x1_max, resolution), np.arange(x2_min, x2_max, resolution))\r\n",
    "\r\n",
    "    Z = classifier.predict(np.array([xx1.ravel(), xx2.ravel()]).T)\r\n",
    "\r\n",
    "    Z = Z.reshape(xx1.shape)\r\n",
    "\r\n",
    "    plt.contourf(xx1, xx2, Z, alpha=0.4, cmap=cmap)\r\n",
    "    plt.xlim(xx1.min(), xx1.max())\r\n",
    "    plt.ylim(xx2.min(), xx2.max())\r\n",
    "\r\n",
    "    # Plotten aller Objekte\r\n",
    "    for idx, cl in enumerate(np.unique(y)):\r\n",
    "        plt.scatter(x=X[y == cl, 0], y=X[y == cl, 1], alpha=0.8, c=colors[idx], marker=markers[idx], label=cl, edgecolor='black')\r\n"
   ],
   "outputs": [],
   "metadata": {}
  },
  {
   "cell_type": "code",
   "execution_count": 34,
   "source": [
    "plot_decision_regions(X, y, classifier=ppn)\r\n",
    "plt.xlabel('Länge des Kelchblatts [cm]')\r\n",
    "plt.ylabel('Länge des Blütenblatts [cm]')\r\n",
    "plt.legend(loc='upper left')\r\n",
    "plt.show()"
   ],
   "outputs": [
    {
     "output_type": "stream",
     "name": "stderr",
     "text": [
      "<ipython-input-33-c36703c10d86>:24: UserWarning: You passed a edgecolor/edgecolors ('black') for an unfilled marker ('x').  Matplotlib is ignoring the edgecolor in favor of the facecolor.  This behavior may change in the future.\n",
      "  plt.scatter(x=X[y == cl, 0], y=X[y == cl, 1], alpha=0.8, c=colors[idx], marker=markers[idx], label=cl, edgecolor='black')\n"
     ]
    },
    {
     "output_type": "display_data",
     "data": {
      "image/png": "[encoded data removed]",
      "text/plain": [
       "<Figure size 432x288 with 1 Axes>"
      ]
     },
     "metadata": {
      "needs_background": "light"
     }
    }
   ],
   "metadata": {}
  }
 ],
 "metadata": {
  "orig_nbformat": 4,
  "language_info": {
   "name": "python",
   "version": "3.8.0",
   "mimetype": "text/x-python",
   "codemirror_mode": {
    "name": "ipython",
    "version": 3
   },
   "pygments_lexer": "ipython3",
   "nbconvert_exporter": "python",
   "file_extension": ".py"
  },
  "kernelspec": {
   "name": "python3",
   "display_name": "Python 3.8.0 32-bit"
  },
  "interpreter": {
   "hash": "27e51d9869a86ed31c6d232a30492375277492976997f955be30b722c624d282"
  }
 },
 "nbformat": 4,
 "nbformat_minor": 2
}